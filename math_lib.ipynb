{
  "nbformat": 4,
  "nbformat_minor": 0,
  "metadata": {
    "colab": {
      "name": "math.lib.ipynb",
      "provenance": [],
      "toc_visible": true,
      "authorship_tag": "ABX9TyMDo+yk/qEE+AembSl+Fo8R",
      "include_colab_link": true
    },
    "kernelspec": {
      "name": "python3",
      "display_name": "Python 3"
    },
    "language_info": {
      "name": "python"
    }
  },
  "cells": [
    {
      "cell_type": "markdown",
      "metadata": {
        "id": "view-in-github",
        "colab_type": "text"
      },
      "source": [
        "<a href=\"https://colab.research.google.com/github/surendraadari/PYTHONNEW/blob/MODULE-5/math_lib.ipynb\" target=\"_parent\"><img src=\"https://colab.research.google.com/assets/colab-badge.svg\" alt=\"Open In Colab\"/></a>"
      ]
    },
    {
      "cell_type": "code",
      "execution_count": 3,
      "metadata": {
        "colab": {
          "base_uri": "https://localhost:8080/"
        },
        "id": "brSp4RKZ4pC_",
        "outputId": "05c37882-1723-4ebb-a8ff-ed256bf29096"
      },
      "outputs": [
        {
          "output_type": "stream",
          "name": "stdout",
          "text": [
            "   Rollno Name\n",
            "a       1  aaa\n",
            "b       2  bbb\n",
            "c       3  ccc\n",
            "   Rollno Name\n",
            "a       1  wer\n",
            "b       2  tyu\n",
            "c       3  uio\n",
            "d       4  poi\n"
          ]
        }
      ],
      "source": [
        "# data of the student\n",
        "import pandas as pd\n",
        "import numpy as np\n",
        "a=[1,5,7,4]\n",
        "b={1:56,2:78,3:44}\n",
        "d=[[1,'aaa'],[2,'bbb'],[3,'ccc']]\n",
        "c=pd.DataFrame(d,columns=['Rollno','Name'],index=['a','b','c'])\n",
        "print(c)\n",
        "t={'Rollno':[1,2,3,4],'Name':['wer','tyu','uio','poi']}\n",
        "c=pd.DataFrame(t,index=['a','b','c','d'])\n",
        "print(c)"
      ]
    },
    {
      "cell_type": "code",
      "source": [
        "import pandas as pd\n",
        "d = {'one' : pd.Series([1, 2, 3], index=['a', 'b', 'c']), \n",
        "   'two' : pd.Series([1, 2, 3, 4], index=['a', 'b', 'c', 'd']), \n",
        "   'three' : pd.Series([10,20,30], index=['a','b','c'])}\n",
        "df = pd.DataFrame(d)\n",
        "print (\"Our dataframe is:\")\n",
        "print(df)\n",
        "# using del function\n",
        "print (\"Deleting the first column using DEL function:\")\n",
        "del df['one']\n",
        "print(df)\n",
        "# using pop function\n",
        "print (\"Deleting another column using POP function:\")\n",
        "df.pop('two')\n",
        "print(df)"
      ],
      "metadata": {
        "colab": {
          "base_uri": "https://localhost:8080/"
        },
        "id": "5mofGxFy4tb1",
        "outputId": "f64f0333-106a-431d-9ab0-f9f59a8fb6bc"
      },
      "execution_count": 4,
      "outputs": [
        {
          "output_type": "stream",
          "name": "stdout",
          "text": [
            "Our dataframe is:\n",
            "   one  two  three\n",
            "a  1.0    1   10.0\n",
            "b  2.0    2   20.0\n",
            "c  3.0    3   30.0\n",
            "d  NaN    4    NaN\n",
            "Deleting the first column using DEL function:\n",
            "   two  three\n",
            "a    1   10.0\n",
            "b    2   20.0\n",
            "c    3   30.0\n",
            "d    4    NaN\n",
            "Deleting another column using POP function:\n",
            "   three\n",
            "a   10.0\n",
            "b   20.0\n",
            "c   30.0\n",
            "d    NaN\n"
          ]
        }
      ]
    },
    {
      "cell_type": "code",
      "source": [
        "import pandas as pd\n",
        "n=[['name','no'],['surendra',12,96],['kalyan',45]]\n",
        "s=[['kumari',66],['sai',26,88]]\n",
        "df = pd.DataFrame(n,columns=['Name','Age','Marks'])\n",
        "\n",
        "df1 = pd.DataFrame(s,columns=['Name','Age','Marks'])\n",
        "df=df.append(df1)\n",
        "print (df)"
      ],
      "metadata": {
        "colab": {
          "base_uri": "https://localhost:8080/"
        },
        "id": "pqZLWYki5cY_",
        "outputId": "91488116-fd9d-442f-adf9-13b1c0270e5a"
      },
      "execution_count": 5,
      "outputs": [
        {
          "output_type": "stream",
          "name": "stdout",
          "text": [
            "       Name Age  Marks\n",
            "0      name  no    NaN\n",
            "1  surendra  12   96.0\n",
            "2    kalyan  45    NaN\n",
            "0    kumari  66    NaN\n",
            "1       sai  26   88.0\n"
          ]
        }
      ]
    }
  ]
}